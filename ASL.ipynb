{
 "cells": [
  {
   "cell_type": "markdown",
   "metadata": {},
   "source": [
    "# Collaborative Filtering Recommendation Engine with Spark MLlib on EMR Studio\n",
    "\n",
    "This notebook demonstrates how to build a simple collaborative filtering movie recommender system using the Alternating Least Squares (ALS) algorithm in Spark MLlib. This notebook is designed to be run on Amazon EMR Studio, but works in any Spark-enabled Jupyter environment.\n"
   ]
  },
  {
   "cell_type": "markdown",
   "metadata": {},
   "source": [
    "## 1. Initialize Spark Session\n",
    "\n",
    "Make sure your notebook is attached to a running kernel with PySpark."
   ]
  },
  {
   "cell_type": "code",
   "execution_count": 1,
   "metadata": {
    "execution": {
     "iopub.execute_input": "2025-06-16T09:33:25.568896Z",
     "iopub.status.busy": "2025-06-16T09:33:25.568412Z",
     "iopub.status.idle": "2025-06-16T09:33:41.508199Z",
     "shell.execute_reply": "2025-06-16T09:33:41.507458Z",
     "shell.execute_reply.started": "2025-06-16T09:33:25.568860Z"
    },
    "executionRoleArn": "arn:aws:iam::928738046450:role/service-role/AmazonEMRStudio_RuntimeRole",
    "tags": []
   },
   "outputs": [
    {
     "data": {
      "application/vnd.jupyter.widget-view+json": {
       "model_id": "31fabe67014a4890bb06e75682a90d1f",
       "version_major": 2,
       "version_minor": 0
      },
      "text/plain": [
       "VBox()"
      ]
     },
     "metadata": {},
     "output_type": "display_data"
    },
    {
     "name": "stdout",
     "output_type": "stream",
     "text": [
      "Starting Spark application\n"
     ]
    },
    {
     "data": {
      "text/html": [
       "<table>\n",
       "    <tr><th>ID</th><th>Kind</th><th>State</th><th>Spark UI</th><th>Driver log</th><th>User</th><th>Current session?</th></tr><tr><td>0</td><td>pyspark</td><td>idle</td><td><a target=\"_blank\" href=\"https://spark-live-ui.emr-serverless.amazonaws.com\" class=\"emr-proxy-link\" emr-runtime=\"emr-serverless\" emr-resource=\"00ftaniuscjfbp0a\" application-id=\"00ftamsg5b4rlj09\">Link</a></td><td></td><td>None</td><td>✔</td></tr></table>"
      ],
      "text/plain": [
       "<IPython.core.display.HTML object>"
      ]
     },
     "metadata": {},
     "output_type": "display_data"
    },
    {
     "data": {
      "application/vnd.jupyter.widget-view+json": {
       "model_id": "",
       "version_major": 2,
       "version_minor": 0
      },
      "text/plain": [
       "FloatProgress(value=0.0, bar_style='info', description='Progress:', layout=Layout(height='25px', width='50%'),…"
      ]
     },
     "metadata": {},
     "output_type": "display_data"
    },
    {
     "name": "stdout",
     "output_type": "stream",
     "text": [
      "SparkSession available as 'spark'.\n"
     ]
    },
    {
     "data": {
      "application/vnd.jupyter.widget-view+json": {
       "model_id": "",
       "version_major": 2,
       "version_minor": 0
      },
      "text/plain": [
       "FloatProgress(value=0.0, bar_style='info', description='Progress:', layout=Layout(height='25px', width='50%'),…"
      ]
     },
     "metadata": {},
     "output_type": "display_data"
    },
    {
     "name": "stdout",
     "output_type": "stream",
     "text": [
      "<pyspark.sql.session.SparkSession object at 0x7fa039795f90>"
     ]
    }
   ],
   "source": [
    "from pyspark.sql import SparkSession\n",
    "\n",
    "spark = SparkSession.builder.appName(\"Collaborative Filtering Recommendation ASL\").getOrCreate()\n",
    "spark"
   ]
  },
  {
   "cell_type": "markdown",
   "metadata": {},
   "source": [
    "## 2. Load Ratings Data from S3\n",
    "\n",
    "Replace the S3 path below with your dataset location. The CSV should have columns like `user_id`, `item_id`, `rating`."
   ]
  },
  {
   "cell_type": "code",
   "execution_count": 2,
   "metadata": {
    "execution": {
     "iopub.execute_input": "2025-06-16T09:34:01.307806Z",
     "iopub.status.busy": "2025-06-16T09:34:01.307325Z",
     "iopub.status.idle": "2025-06-16T09:34:12.544991Z",
     "shell.execute_reply": "2025-06-16T09:34:12.544335Z",
     "shell.execute_reply.started": "2025-06-16T09:34:01.307773Z"
    },
    "executionRoleArn": "arn:aws:iam::928738046450:role/service-role/AmazonEMRStudio_RuntimeRole",
    "tags": []
   },
   "outputs": [
    {
     "data": {
      "application/vnd.jupyter.widget-view+json": {
       "model_id": "1df319f5d9eb47a18c54a264cb652616",
       "version_major": 2,
       "version_minor": 0
      },
      "text/plain": [
       "VBox()"
      ]
     },
     "metadata": {},
     "output_type": "display_data"
    },
    {
     "data": {
      "application/vnd.jupyter.widget-view+json": {
       "model_id": "",
       "version_major": 2,
       "version_minor": 0
      },
      "text/plain": [
       "FloatProgress(value=0.0, bar_style='info', description='Progress:', layout=Layout(height='25px', width='50%'),…"
      ]
     },
     "metadata": {},
     "output_type": "display_data"
    },
    {
     "name": "stdout",
     "output_type": "stream",
     "text": [
      "Total ratings: 1000\n",
      "+-------+-------+------+\n",
      "|user_id|item_id|rating|\n",
      "+-------+-------+------+\n",
      "|      3|      3|     4|\n",
      "|      3|     19|     5|\n",
      "|      3|     15|     2|\n",
      "|      6|      3|     4|\n",
      "|      5|     10|     4|\n",
      "|      4|     11|     4|\n",
      "|      5|     16|     2|\n",
      "|      9|      3|     5|\n",
      "|      9|     11|     1|\n",
      "|      6|     10|     1|\n",
      "+-------+-------+------+\n",
      "only showing top 10 rows"
     ]
    }
   ],
   "source": [
    "from pyspark.sql.types import StructType, StructField, IntegerType\n",
    "\n",
    "s3_path = \"s3://emr-studio-blog/data/rating.csv\"  # <-- Change this one to your csv data in your S3 bucket!\n",
    "\n",
    "schema = StructType(\n",
    "    [\n",
    "        StructField(\"user_id\", IntegerType(), True),\n",
    "        StructField(\"item_id\", IntegerType(), True),\n",
    "        StructField(\"rating\", IntegerType(), True),\n",
    "    ]\n",
    ")\n",
    "\n",
    "# Load data from S3\n",
    "ratings = (\n",
    "    spark.read.option(\"header\", \"true\")\n",
    "    .schema(schema)\n",
    "    .csv(s3_path)\n",
    ")\n",
    "\n",
    "print(f\"Total ratings: {ratings.count()}\")\n",
    "\n",
    "ratings.show(10)"
   ]
  },
  {
   "cell_type": "markdown",
   "metadata": {},
   "source": [
    "## 3. Split Data into Training and Test Sets\n",
    "\n",
    "80% train, 20% test"
   ]
  },
  {
   "cell_type": "code",
   "execution_count": 3,
   "metadata": {
    "execution": {
     "iopub.execute_input": "2025-06-16T09:42:01.156692Z",
     "iopub.status.busy": "2025-06-16T09:42:01.156263Z",
     "iopub.status.idle": "2025-06-16T09:42:06.721913Z",
     "shell.execute_reply": "2025-06-16T09:42:06.721278Z",
     "shell.execute_reply.started": "2025-06-16T09:42:01.156659Z"
    },
    "executionRoleArn": "arn:aws:iam::928738046450:role/service-role/AmazonEMRStudio_RuntimeRole",
    "tags": []
   },
   "outputs": [
    {
     "data": {
      "application/vnd.jupyter.widget-view+json": {
       "model_id": "fb128e51bf5e402bb6785deb26a2a71c",
       "version_major": 2,
       "version_minor": 0
      },
      "text/plain": [
       "VBox()"
      ]
     },
     "metadata": {},
     "output_type": "display_data"
    },
    {
     "data": {
      "application/vnd.jupyter.widget-view+json": {
       "model_id": "",
       "version_major": 2,
       "version_minor": 0
      },
      "text/plain": [
       "FloatProgress(value=0.0, bar_style='info', description='Progress:', layout=Layout(height='25px', width='50%'),…"
      ]
     },
     "metadata": {},
     "output_type": "display_data"
    },
    {
     "name": "stdout",
     "output_type": "stream",
     "text": [
      "Training set size: 818\n",
      "Test set size: 182\n",
      "DataFrame[user_id: int, item_id: int, rating: int]"
     ]
    }
   ],
   "source": [
    "train, test = ratings.randomSplit([0.8, 0.2])\n",
    "\n",
    "print(f\"Training set size: {train.count()}\\nTest set size: {test.count()}\")\n",
    "\n",
    "train.cache()\n",
    "test.cache()"
   ]
  },
  {
   "cell_type": "markdown",
   "metadata": {},
   "source": [
    "## 4. Train ALS Model\n",
    "\n",
    "Train the model"
   ]
  },
  {
   "cell_type": "code",
   "execution_count": 4,
   "metadata": {
    "execution": {
     "iopub.execute_input": "2025-06-16T09:42:17.743813Z",
     "iopub.status.busy": "2025-06-16T09:42:17.743383Z",
     "iopub.status.idle": "2025-06-16T09:42:25.695023Z",
     "shell.execute_reply": "2025-06-16T09:42:25.694257Z",
     "shell.execute_reply.started": "2025-06-16T09:42:17.743783Z"
    },
    "executionRoleArn": "arn:aws:iam::928738046450:role/service-role/AmazonEMRStudio_RuntimeRole",
    "tags": []
   },
   "outputs": [
    {
     "data": {
      "application/vnd.jupyter.widget-view+json": {
       "model_id": "fe10b4dadabc4490bb63d1156110ffb8",
       "version_major": 2,
       "version_minor": 0
      },
      "text/plain": [
       "VBox()"
      ]
     },
     "metadata": {},
     "output_type": "display_data"
    },
    {
     "data": {
      "application/vnd.jupyter.widget-view+json": {
       "model_id": "",
       "version_major": 2,
       "version_minor": 0
      },
      "text/plain": [
       "FloatProgress(value=0.0, bar_style='info', description='Progress:', layout=Layout(height='25px', width='50%'),…"
      ]
     },
     "metadata": {},
     "output_type": "display_data"
    },
    {
     "name": "stdout",
     "output_type": "stream",
     "text": [
      "Training ALS model...\n",
      "ALS model trained!\n",
      "ALSModel: uid=ALS_156a9151b32c, rank=10"
     ]
    }
   ],
   "source": [
    "from pyspark.ml.recommendation import ALS\n",
    "\n",
    "als = ALS(\n",
    "    maxIter=10,\n",
    "    regParam=0.1,\n",
    "    userCol=\"user_id\",\n",
    "    itemCol=\"item_id\",\n",
    "    ratingCol=\"rating\",\n",
    "    coldStartStrategy=\"drop\"\n",
    ")\n",
    "\n",
    "print(\"Training ALS model...\")\n",
    "model = als.fit(train)\n",
    "print(\"ALS model trained!\")\n",
    "model"
   ]
  },
  {
   "cell_type": "markdown",
   "metadata": {},
   "source": [
    "## 5.Try to predict with test set"
   ]
  },
  {
   "cell_type": "code",
   "execution_count": 5,
   "metadata": {
    "execution": {
     "iopub.execute_input": "2025-06-16T09:43:15.908936Z",
     "iopub.status.busy": "2025-06-16T09:43:15.908483Z",
     "iopub.status.idle": "2025-06-16T09:43:19.597169Z",
     "shell.execute_reply": "2025-06-16T09:43:19.556285Z",
     "shell.execute_reply.started": "2025-06-16T09:43:15.908904Z"
    },
    "executionRoleArn": "arn:aws:iam::928738046450:role/service-role/AmazonEMRStudio_RuntimeRole",
    "tags": []
   },
   "outputs": [
    {
     "data": {
      "application/vnd.jupyter.widget-view+json": {
       "model_id": "3427f354b1e94b178357a31fd6583ae6",
       "version_major": 2,
       "version_minor": 0
      },
      "text/plain": [
       "VBox()"
      ]
     },
     "metadata": {},
     "output_type": "display_data"
    },
    {
     "data": {
      "application/vnd.jupyter.widget-view+json": {
       "model_id": "",
       "version_major": 2,
       "version_minor": 0
      },
      "text/plain": [
       "FloatProgress(value=0.0, bar_style='info', description='Progress:', layout=Layout(height='25px', width='50%'),…"
      ]
     },
     "metadata": {},
     "output_type": "display_data"
    },
    {
     "name": "stdout",
     "output_type": "stream",
     "text": [
      "+-------+-------+------+----------+\n",
      "|user_id|item_id|rating|prediction|\n",
      "+-------+-------+------+----------+\n",
      "|      1|      2|     5| 2.9376748|\n",
      "|      1|      4|     3| 2.5711138|\n",
      "|      1|      5|     4| 2.3773007|\n",
      "|      1|      6|     2| 3.2031214|\n",
      "|      1|      8|     2| 2.4138818|\n",
      "|      1|      8|     4| 2.4138818|\n",
      "|      1|      9|     2|  2.848854|\n",
      "|      1|     10|     2| 3.4588642|\n",
      "|      1|     11|     4| 2.8927827|\n",
      "|      1|     12|     2| 2.9755352|\n",
      "+-------+-------+------+----------+\n",
      "only showing top 10 rows"
     ]
    }
   ],
   "source": [
    "predictions = model.transform(test)\n",
    "predictions.show(10)"
   ]
  },
  {
   "cell_type": "markdown",
   "metadata": {},
   "source": [
    "## 6. Evaluate the Model"
   ]
  },
  {
   "cell_type": "code",
   "execution_count": 6,
   "metadata": {
    "execution": {
     "iopub.execute_input": "2025-06-16T09:43:33.825023Z",
     "iopub.status.busy": "2025-06-16T09:43:33.824598Z",
     "iopub.status.idle": "2025-06-16T09:43:41.458298Z",
     "shell.execute_reply": "2025-06-16T09:43:41.457567Z",
     "shell.execute_reply.started": "2025-06-16T09:43:33.824990Z"
    },
    "executionRoleArn": "arn:aws:iam::928738046450:role/service-role/AmazonEMRStudio_RuntimeRole",
    "tags": []
   },
   "outputs": [
    {
     "data": {
      "application/vnd.jupyter.widget-view+json": {
       "model_id": "1c66b549e489479fbe0475525d541df1",
       "version_major": 2,
       "version_minor": 0
      },
      "text/plain": [
       "VBox()"
      ]
     },
     "metadata": {},
     "output_type": "display_data"
    },
    {
     "data": {
      "application/vnd.jupyter.widget-view+json": {
       "model_id": "",
       "version_major": 2,
       "version_minor": 0
      },
      "text/plain": [
       "FloatProgress(value=0.0, bar_style='info', description='Progress:', layout=Layout(height='25px', width='50%'),…"
      ]
     },
     "metadata": {},
     "output_type": "display_data"
    },
    {
     "name": "stdout",
     "output_type": "stream",
     "text": [
      "Root Mean Square Error (RMSE): 1.5291\n",
      "Mean Absolute Error (MAE): 1.3266"
     ]
    }
   ],
   "source": [
    "from pyspark.ml.evaluation import RegressionEvaluator\n",
    "\n",
    "# 1\n",
    "evaluator = RegressionEvaluator(\n",
    "    metricName=\"rmse\",\n",
    "    labelCol=\"rating\",\n",
    "    predictionCol=\"prediction\"\n",
    ")\n",
    "\n",
    "rmse = evaluator.evaluate(predictions)\n",
    "print(f\"Root Mean Square Error (RMSE): {rmse:.4f}\")\n",
    "\n",
    "# 2\n",
    "mae_evaluator = RegressionEvaluator(\n",
    "    metricName=\"mae\",\n",
    "    labelCol=\"rating\",\n",
    "    predictionCol=\"prediction\"\n",
    ")\n",
    "\n",
    "mae = mae_evaluator.evaluate(predictions)\n",
    "print(f\"Mean Absolute Error (MAE): {mae:.4f}\")"
   ]
  },
  {
   "cell_type": "markdown",
   "metadata": {},
   "source": [
    "## 7. Generate Top-N Recommendations for Each User"
   ]
  },
  {
   "cell_type": "code",
   "execution_count": 7,
   "metadata": {
    "execution": {
     "iopub.execute_input": "2025-06-16T09:43:54.406322Z",
     "iopub.status.busy": "2025-06-16T09:43:54.405865Z",
     "iopub.status.idle": "2025-06-16T09:43:57.947404Z",
     "shell.execute_reply": "2025-06-16T09:43:57.946651Z",
     "shell.execute_reply.started": "2025-06-16T09:43:54.406290Z"
    },
    "executionRoleArn": "arn:aws:iam::928738046450:role/service-role/AmazonEMRStudio_RuntimeRole",
    "tags": []
   },
   "outputs": [
    {
     "data": {
      "application/vnd.jupyter.widget-view+json": {
       "model_id": "b351a84eb77d46dd8f9c89aee880a198",
       "version_major": 2,
       "version_minor": 0
      },
      "text/plain": [
       "VBox()"
      ]
     },
     "metadata": {},
     "output_type": "display_data"
    },
    {
     "data": {
      "application/vnd.jupyter.widget-view+json": {
       "model_id": "",
       "version_major": 2,
       "version_minor": 0
      },
      "text/plain": [
       "FloatProgress(value=0.0, bar_style='info', description='Progress:', layout=Layout(height='25px', width='50%'),…"
      ]
     },
     "metadata": {},
     "output_type": "display_data"
    },
    {
     "name": "stdout",
     "output_type": "stream",
     "text": [
      "+-------+---------------------------------------------------------------------------------------------------------------------------------------------------------------------+\n",
      "|user_id|recommendations                                                                                                                                                      |\n",
      "+-------+---------------------------------------------------------------------------------------------------------------------------------------------------------------------+\n",
      "|10     |[{15, 3.5726023}, {10, 3.52049}, {6, 3.317073}, {3, 3.232316}, {11, 3.2248077}, {19, 3.2028217}, {8, 3.1894932}, {17, 3.1809297}, {9, 3.1416864}, {2, 3.1215622}]    |\n",
      "|1      |[{14, 3.8033876}, {10, 3.4588642}, {15, 3.242338}, {6, 3.2031214}, {18, 3.0111866}, {12, 2.9755352}, {2, 2.9376748}, {19, 2.8976045}, {11, 2.8927827}, {13, 2.87652}]|\n",
      "|2      |[{4, 3.7576337}, {13, 3.655106}, {5, 3.6065657}, {10, 3.559215}, {12, 3.4828944}, {19, 3.372758}, {8, 3.345009}, {17, 3.1195207}, {11, 3.0314546}, {20, 2.9492693}]  |\n",
      "|3      |[{4, 3.9265747}, {19, 3.6390035}, {5, 3.4189036}, {3, 3.318042}, {2, 3.2915058}, {13, 3.2484865}, {20, 3.1589987}, {10, 3.1039343}, {17, 3.0974488}, {16, 3.0337315}]|\n",
      "|8      |[{15, 3.4500341}, {3, 3.4421551}, {6, 3.283856}, {20, 3.24792}, {2, 3.1310682}, {4, 3.0231855}, {19, 3.019298}, {9, 2.9792435}, {10, 2.9346123}, {1, 2.9052868}]     |\n",
      "+-------+---------------------------------------------------------------------------------------------------------------------------------------------------------------------+\n",
      "only showing top 5 rows"
     ]
    }
   ],
   "source": [
    "userRecs = model.recommendForAllUsers(10)\n",
    "userRecs.show(5, truncate=False)"
   ]
  },
  {
   "cell_type": "markdown",
   "metadata": {},
   "source": [
    "## 8. (Optional) Save Recommendations to S3\n",
    "\n",
    "You can save the recommendations as a Parquet or JSON file for downstream use."
   ]
  },
  {
   "cell_type": "code",
   "execution_count": 8,
   "metadata": {
    "execution": {
     "iopub.execute_input": "2025-06-16T09:44:37.209729Z",
     "iopub.status.busy": "2025-06-16T09:44:37.209283Z",
     "iopub.status.idle": "2025-06-16T09:44:40.857542Z",
     "shell.execute_reply": "2025-06-16T09:44:40.849954Z",
     "shell.execute_reply.started": "2025-06-16T09:44:37.209697Z"
    },
    "executionRoleArn": "arn:aws:iam::928738046450:role/service-role/AmazonEMRStudio_RuntimeRole",
    "tags": []
   },
   "outputs": [
    {
     "data": {
      "application/vnd.jupyter.widget-view+json": {
       "model_id": "b8a55e73ef50419f9abd80e8f251e974",
       "version_major": 2,
       "version_minor": 0
      },
      "text/plain": [
       "VBox()"
      ]
     },
     "metadata": {},
     "output_type": "display_data"
    },
    {
     "data": {
      "application/vnd.jupyter.widget-view+json": {
       "model_id": "",
       "version_major": 2,
       "version_minor": 0
      },
      "text/plain": [
       "FloatProgress(value=0.0, bar_style='info', description='Progress:', layout=Layout(height='25px', width='50%'),…"
      ]
     },
     "metadata": {},
     "output_type": "display_data"
    },
    {
     "name": "stdout",
     "output_type": "stream",
     "text": [
      "Recommendations saved to: s3://emr-studio-blog/result/"
     ]
    }
   ],
   "source": [
    "output_path = \"s3://emr-studio-blog/result/\"  # <-- Change this\n",
    "userRecs.write.mode(\"overwrite\").json(output_path)\n",
    "print(f\"Recommendations saved to: {output_path}\")"
   ]
  },
  {
   "cell_type": "markdown",
   "metadata": {},
   "source": [
    "## 9. Save model to S3\n"
   ]
  },
  {
   "cell_type": "code",
   "execution_count": 11,
   "metadata": {
    "execution": {
     "iopub.execute_input": "2025-06-16T09:45:43.672926Z",
     "iopub.status.busy": "2025-06-16T09:45:43.672502Z",
     "iopub.status.idle": "2025-06-16T09:45:47.334901Z",
     "shell.execute_reply": "2025-06-16T09:45:47.334255Z",
     "shell.execute_reply.started": "2025-06-16T09:45:43.672897Z"
    },
    "executionRoleArn": "arn:aws:iam::928738046450:role/service-role/AmazonEMRStudio_RuntimeRole",
    "tags": []
   },
   "outputs": [
    {
     "data": {
      "application/vnd.jupyter.widget-view+json": {
       "model_id": "420fe241fd124615bbf728bc6708fd10",
       "version_major": 2,
       "version_minor": 0
      },
      "text/plain": [
       "VBox()"
      ]
     },
     "metadata": {},
     "output_type": "display_data"
    },
    {
     "data": {
      "application/vnd.jupyter.widget-view+json": {
       "model_id": "",
       "version_major": 2,
       "version_minor": 0
      },
      "text/plain": [
       "FloatProgress(value=0.0, bar_style='info', description='Progress:', layout=Layout(height='25px', width='50%'),…"
      ]
     },
     "metadata": {},
     "output_type": "display_data"
    },
    {
     "name": "stdout",
     "output_type": "stream",
     "text": [
      "Model saved to: s3://emr-studio-blog/model/"
     ]
    }
   ],
   "source": [
    "model_output_path = \"s3://emr-studio-blog/model/\"\n",
    "model.write().overwrite().save(model_output_path)\n",
    "print(f\"Model saved to: {model_output_path}\")"
   ]
  },
  {
   "cell_type": "markdown",
   "metadata": {},
   "source": [
    "## 10. (Optional) Hyperparameter Tuning"
   ]
  },
  {
   "cell_type": "code",
   "execution_count": null,
   "metadata": {},
   "outputs": [],
   "source": [
    "from pyspark.ml.tuning import CrossValidator, ParamGridBuilder\n",
    "\n",
    "paramGrid = ParamGridBuilder() \\\n",
    "    .addGrid(als.regParam, [0.01, 0.1, 1.0]) \\\n",
    "    .addGrid(als.rank, [10, 50, 100]) \\\n",
    "    .addGrid(als.maxIter, [5, 10, 15]) \\\n",
    "    .build()\n",
    "\n",
    "crossval = CrossValidator(\n",
    "    estimator=als,\n",
    "    estimatorParamMaps=paramGrid,\n",
    "    evaluator=evaluator,\n",
    "    numFolds=3\n",
    ")\n",
    "\n",
    "# Fit cross validator (this step may take some time)\n",
    "print(\"Performing hyperparameter tuning...\")\n",
    "cvModel = crossval.fit(training)\n",
    "\n",
    "# Get best model\n",
    "best_model = cvModel.bestModel\n",
    "\n",
    "print(f\"Best parameters:\")\n",
    "print(f\"Rank: {best_model.rank}\")\n",
    "print(f\"RegParam: {best_model._java_obj.parent().getRegParam()}\")\n",
    "print(f\"MaxIter: {best_model._java_obj.parent().getMaxIter()}\")"
   ]
  },
  {
   "cell_type": "markdown",
   "metadata": {},
   "source": [
    "## 11. (Optional) Model Persistence and Deployment"
   ]
  },
  {
   "cell_type": "code",
   "execution_count": null,
   "metadata": {},
   "outputs": [],
   "source": [
    "from pyspark.ml.recommendation import ALSModel\n",
    "\n",
    "model_path = \"s3://emr-studio-blog/model/\" # <-- Change this\n",
    "loaded_model = ALSModel.load(model_path)\n",
    "\n",
    "# Create a recommendation service function\n",
    "def batch_recommendations(user_ids, num_recommendations=10):\n",
    "    \"\"\"Generate recommendations for a batch of users\"\"\"\n",
    "    users_df = spark.createDataFrame([(uid,) for uid in user_ids], [\"user_id\"])\n",
    "    recommendations = loaded_model.recommendForUserSubset(users_df, num_recommendations)\n",
    "\n",
    "    result = {}\n",
    "    for row in recommendations.collect():\n",
    "        user_id = row['user_id']\n",
    "        recs = [(rec['item_id'], rec['rating']) for rec in row['recommendations']]\n",
    "        result[user_id] = recs\n",
    "\n",
    "    return result"
   ]
  },
  {
   "cell_type": "markdown",
   "metadata": {},
   "source": [
    "## 12. (Optional) Monitoring and Evaluation Pipeline"
   ]
  },
  {
   "cell_type": "code",
   "execution_count": null,
   "metadata": {},
   "outputs": [],
   "source": [
    "def evaluate_model_performance(model, test_data):\n",
    "    predictions = model.transform(test_data)\n",
    "\n",
    "    rmse = RegressionEvaluator(metricName=\"rmse\", labelCol=\"rating\", predictionCol=\"prediction\").evaluate(predictions)\n",
    "    mae = RegressionEvaluator(metricName=\"mae\", labelCol=\"rating\", predictionCol=\"prediction\").evaluate(predictions)\n",
    "\n",
    "    # Coverage metrics\n",
    "    total_items = ratings_df.select(\"item_id\").distinct().count()\n",
    "    recommended_items = model.recommendForAllUsers(10).select(explode(\"recommendations.item_id\")).distinct().count()\n",
    "    coverage = recommended_items / total_items\n",
    "\n",
    "    metrics = {\n",
    "        \"rmse\": rmse,\n",
    "        \"mae\": mae,\n",
    "        \"coverage\": coverage,\n",
    "        \"timestamp\": spark.sql(\"SELECT current_timestamp()\").collect()[0][0]\n",
    "    }\n",
    "\n",
    "    return metrics\n",
    "\n",
    "# Save metrics for tracking\n",
    "metrics = evaluate_model_performance(best_model, test)\n",
    "metrics_df = spark.createDataFrame([metrics])\n",
    "metrics_df.write.mode(\"append\").parquet(\"s3://emr-studio-blog/model-metrics/\") # <-- Change this"
   ]
  },
  {
   "cell_type": "markdown",
   "metadata": {},
   "source": [
    "## 13. Clean Up\n",
    "\n",
    "When all done, stop your Spark session to release resources."
   ]
  },
  {
   "cell_type": "code",
   "execution_count": 12,
   "metadata": {
    "execution": {
     "iopub.execute_input": "2025-06-16T09:54:18.031596Z",
     "iopub.status.busy": "2025-06-16T09:54:18.031142Z",
     "iopub.status.idle": "2025-06-16T09:54:18.477354Z",
     "shell.execute_reply": "2025-06-16T09:54:18.476727Z",
     "shell.execute_reply.started": "2025-06-16T09:54:18.031564Z"
    },
    "executionRoleArn": "arn:aws:iam::928738046450:role/service-role/AmazonEMRStudio_RuntimeRole",
    "tags": []
   },
   "outputs": [
    {
     "data": {
      "application/vnd.jupyter.widget-view+json": {
       "model_id": "bf3562af24414106b7d37c24818c483e",
       "version_major": 2,
       "version_minor": 0
      },
      "text/plain": [
       "VBox()"
      ]
     },
     "metadata": {},
     "output_type": "display_data"
    },
    {
     "data": {
      "application/vnd.jupyter.widget-view+json": {
       "model_id": "",
       "version_major": 2,
       "version_minor": 0
      },
      "text/plain": [
       "FloatProgress(value=0.0, bar_style='info', description='Progress:', layout=Layout(height='25px', width='50%'),…"
      ]
     },
     "metadata": {},
     "output_type": "display_data"
    }
   ],
   "source": [
    "spark.stop()"
   ]
  },
  {
   "cell_type": "markdown",
   "metadata": {},
   "source": [
    "---\n",
    "You’ve built a collaborative filtering recommender system using Spark MLlib on EMR Studio."
   ]
  }
 ],
 "metadata": {
  "kernelspec": {
   "display_name": "PySpark",
   "language": "python",
   "name": "spark_magic_pyspark"
  },
  "language_info": {
   "codemirror_mode": {
    "name": "python",
    "version": 3
   },
   "file_extension": ".py",
   "mimetype": "text/x-python",
   "name": "pyspark",
   "pygments_lexer": "python3"
  }
 },
 "nbformat": 4,
 "nbformat_minor": 4
}
